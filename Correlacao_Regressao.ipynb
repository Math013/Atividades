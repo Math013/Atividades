{
  "nbformat": 4,
  "nbformat_minor": 0,
  "metadata": {
    "colab": {
      "name": "Correlacao_Regressao.ipynb",
      "provenance": [],
      "authorship_tag": "ABX9TyOcueYpqlZFBlPBvExteIFy",
      "include_colab_link": true
    },
    "kernelspec": {
      "name": "python3",
      "display_name": "Python 3"
    },
    "language_info": {
      "name": "python"
    }
  },
  "cells": [
    {
      "cell_type": "markdown",
      "metadata": {
        "id": "view-in-github",
        "colab_type": "text"
      },
      "source": [
        "<a href=\"https://colab.research.google.com/github/Math013/Atividades/blob/main/Correlacao_Regressao.ipynb\" target=\"_parent\"><img src=\"https://colab.research.google.com/assets/colab-badge.svg\" alt=\"Open In Colab\"/></a>"
      ]
    },
    {
      "cell_type": "markdown",
      "source": [
        "# Funções Auxiliares"
      ],
      "metadata": {
        "id": "ip5onybbuBnJ"
      }
    },
    {
      "cell_type": "markdown",
      "source": [
        "Funções"
      ],
      "metadata": {
        "id": "40QrHWCJYReA"
      }
    },
    {
      "cell_type": "code",
      "source": [
        "def cab_X():\n",
        "  print(\"==\" * 15)\n",
        "  print(\"Eixo X\".center(30))\n",
        "  print(\"==\" * 15)\n",
        "\n",
        "def cab_Y():\n",
        "  print(\"==\" * 15)\n",
        "  print(\"Eixo Y\".center(30))\n",
        "  print(\"==\" * 15)\n",
        "\n",
        "def cab_Mult():\n",
        "  print(\"==\" * 15)\n",
        "  print(\"Multiplicação de X e Y\".center(30))\n",
        "  print(\"==\" * 15)\n",
        "\n",
        "def cab_XQ():\n",
        "  print(\"==\" * 15)\n",
        "  print(\"X²\".center(30))\n",
        "  print(\"==\" * 15)\n",
        "\n",
        "def cab_YQ():\n",
        "  print(\"==\" * 15)\n",
        "  print(\"Y²\".center(30))\n",
        "  print(\"==\" * 15)\n",
        "\n",
        "def quadr(x):\n",
        "  Q = []\n",
        "  for e in x:\n",
        "    Q.append(e**2)\n",
        "  return Q\n",
        "\n",
        "def cab_R():\n",
        "  print(\"==\" * 15)\n",
        "  print(\"Correlação R\".center(30))\n",
        "  print(\"==\" * 15)"
      ],
      "metadata": {
        "id": "rRTREW5dYK-B"
      },
      "execution_count": null,
      "outputs": []
    },
    {
      "cell_type": "markdown",
      "source": [
        "#Correlação R"
      ],
      "metadata": {
        "id": "UiTSfY9EtgJb"
      }
    },
    {
      "cell_type": "code",
      "source": [
        "import numpy as np\n",
        "from math import sqrt\n",
        "\n",
        "# Eixos X e Y\n",
        "X1 = []\n",
        "Y1 = []\n",
        "\n",
        "# Nº de elementos\n",
        "n = int(input(\"Informe o número de observações: \")) # Tamanho de n\n",
        "\n",
        "# Eixo X\n",
        "cab_X()\n",
        "for e in range(0, n):\n",
        "  X = float(input(f\"Informe o {e+1}º valor em x: \")) # Valores de X\n",
        "  X1.append(X)\n",
        "\n",
        "SX = sum(X1) # Soma dos elementos X\n",
        "print()\n",
        "print(f'Elementos de X: {X1}')\n",
        "print(f'A soma de X é: {SX}') # Soma dos elementos em X\n",
        "print()\n",
        "\n",
        "# Eixo Y\n",
        "cab_Y()\n",
        "for e in range(0, n): \n",
        "  Y = float(input(f\"Informe o {e+1}º valor em y: \")) # Valores de Y\n",
        "  Y1.append(Y)\n",
        "\n",
        "SY = sum(Y1) # Soma dos elementos Y\n",
        "print()\n",
        "print(f'Elementos de Y {Y1}')\n",
        "print(f'A soma de Y é: {SY}') # Soma dos elementos em Y\n",
        "print()\n",
        "\n",
        "# Multiplicação X e Y\n",
        "cab_Mult()\n",
        "\n",
        "mult = [x*y for x,y in zip(X1, Y1)] # Multiplicação dos elementos (X*Y)\n",
        "SM = sum(mult) # Soma dos elementos Multiplicados (X*Y)\n",
        "print(f'Elementos X * Y: {mult}')\n",
        "print(f'A soma da multiplicação: {SM:.2f}') # Soma da multiplicação dos elementos 'mult'\n",
        "print()\n",
        "\n",
        "# X ao quadrado\n",
        "cab_XQ()\n",
        "\n",
        "XQ = quadr(X1) # Variável com os elementos X²\n",
        "SXQ = sum(quadr(X1)) # Variável com as soma dos elementos X²\n",
        "print(f'Elementos X²: {XQ}') # Elementos X ao quadrado (X²)\n",
        "print(f'Soma dos elementos X²: {SXQ}') # Soma dos elementos X²\n",
        "print()\n",
        "\n",
        "# Y ao quadrado\n",
        "cab_YQ()\n",
        "\n",
        "YQ = quadr(Y1) # Variável com os elementos Y²\n",
        "SYQ = sum(quadr(Y1)) # Variável com as soma dos elementos Y²\n",
        "print(f'Elementos Y²: {YQ}') # Elementos Y ao quadrado (Y²)\n",
        "print(f'Soma dos elementos Y²: {SYQ}') # Soma dos elementos Y²\n",
        "print()\n",
        "\n",
        "# Correlação R\n",
        "cab_R()\n",
        "\n",
        "print(f'{n} * {SM} - {SX} * {SY} / √ [ {n} * {SXQ} - {SX}²] * [ {n} * {SYQ} - {SY}²')\n",
        "\n",
        "P1 = n * SM - SX * SY # Parte 1 da fórmula\n",
        "print(f'{P1} - 1ª parte')\n",
        "\n",
        "P2 = sqrt(((n * SXQ - SX**2) * (n * SYQ - SY**2))) # Parte 2 da fórmula\n",
        "P2_X = (n * SXQ - SX**2) # Parte 2.1 da fórmula\n",
        "P2_Y = (n * SYQ - SY**2) # Parte 2.2 da fórmula\n",
        "print(f'{P2_X} * {P2_Y} - 2ª parte')\n",
        "\n",
        "print(f'Conta: {P1} / √ {P2_X} * {P2_Y}')\n",
        "print()\n",
        "R = P1 / P2\n",
        "if 0 > R:\n",
        "  print(\"Utilizado módulo (Valor negativo!!)\")\n",
        "  print(f\"Correlação R de X e Y é {abs(R):.4f}\")\n",
        "  print()\n",
        "  print(f\"Valor sem módulo: {R:.4f}\")\n",
        "else:\n",
        "  print(\"Número positivo!!\")\n",
        "  print(f\"Correlação R de X e Y é {R:.4f}\")\n",
        "\n",
        "if 0.6 <= abs(R) <= 1:\n",
        "  print(f\"Correlação R: {abs(R):.4f} é Boa\")\n",
        "elif 0.3 <= abs(R) < 0.6:\n",
        "  print(f\"Correlação R: {abs(R):.4f} é Ruim\")\n",
        "elif 0 <= abs(R) < 0.3:\n",
        "  print(f\"Correlação R: {abs(R):.4f} é Péssimo\")\n",
        "else:\n",
        "  print(\"Erro na conta!!\")\n"
      ],
      "metadata": {
        "colab": {
          "base_uri": "https://localhost:8080/"
        },
        "id": "tWXqgOszn_ni",
        "outputId": "f3252764-ff7f-4f34-88ca-151a6ee6df7c"
      },
      "execution_count": null,
      "outputs": [
        {
          "output_type": "stream",
          "name": "stdout",
          "text": [
            "Informe o número de observações: 5\n",
            "==============================\n",
            "            Eixo X            \n",
            "==============================\n",
            "Informe o 1º valor em x: 2\n",
            "Informe o 2º valor em x: 4\n",
            "Informe o 3º valor em x: 6\n",
            "Informe o 4º valor em x: 8\n",
            "Informe o 5º valor em x: 10\n",
            "\n",
            "Elementos de X: [2.0, 4.0, 6.0, 8.0, 10.0]\n",
            "A soma de X é: 30.0\n",
            "\n",
            "==============================\n",
            "            Eixo Y            \n",
            "==============================\n",
            "Informe o 1º valor em y: 1\n",
            "Informe o 2º valor em y: 2\n",
            "Informe o 3º valor em y: 3\n",
            "Informe o 4º valor em y: 4\n",
            "Informe o 5º valor em y: 5\n",
            "\n",
            "Elementos de Y [1.0, 2.0, 3.0, 4.0, 5.0]\n",
            "A soma de Y é: 15.0\n",
            "\n",
            "==============================\n",
            "    Multiplicação de X e Y    \n",
            "==============================\n",
            "Elementos X * Y: [2.0, 8.0, 18.0, 32.0, 50.0]\n",
            "A soma da multiplicação: 110.00\n",
            "\n",
            "==============================\n",
            "              X²              \n",
            "==============================\n",
            "Elementos X²: [4.0, 16.0, 36.0, 64.0, 100.0]\n",
            "Soma dos elementos X²: 220.0\n",
            "\n",
            "==============================\n",
            "              Y²              \n",
            "==============================\n",
            "Elementos Y²: [1.0, 4.0, 9.0, 16.0, 25.0]\n",
            "Soma dos elementos Y²: 55.0\n",
            "\n",
            "==============================\n",
            "         Correlação R         \n",
            "==============================\n",
            "5 * 110.0 - 30.0 * 15.0 / √ [ 5 * 220.0 - 30.0²] * [ 5 * 55.0 - 15.0²\n",
            "100.0 - 1ª parte\n",
            "200.0 * 50.0 - 2ª parte\n",
            "Conta: 100.0 / √ 200.0 * 50.0\n",
            "\n",
            "Número positivo!!\n",
            "Correlação R de X e Y é 1.0000\n",
            "Correlação R: 1.0000 é Boa\n"
          ]
        }
      ]
    },
    {
      "cell_type": "markdown",
      "source": [
        "# Regressão Linear\n",
        "\n",
        "Y = ax + b"
      ],
      "metadata": {
        "id": "r0gBjCbZtsDO"
      }
    },
    {
      "cell_type": "code",
      "source": [
        "print(\"Valor de A: \")\n",
        "# Y = ax + b\n",
        "a = P1 / P2_X \n",
        "# P1 = n * SM - SX * SY / P2_X = (n * SXQ - SX**2)\n",
        "print('n * SM - SX * SY / (n * SXQ - SX**2)')\n",
        "print(f\"{P1} / {P2_X} = {a:.2f}\")\n",
        "print()\n",
        "\n",
        "\n",
        "print('Média de X: ')\n",
        "# Média de X\n",
        "x_m = SX / n\n",
        "# Soma de X / nº de elementos\n",
        "print('SX / n = x_m')\n",
        "print(f'{SX} / {n} = {x_m}')\n",
        "print()\n",
        "\n",
        "print('Média de Y: ')\n",
        "# Média de Y\n",
        "y_m = SY / n\n",
        "# Soma de Y / nº de elementos\n",
        "print('SY / n = y_m')\n",
        "print(f'{SY} / {n} = {y_m}')\n",
        "print()\n",
        "\n",
        "print('Valor de B: ')\n",
        "# Y = ax + b\n",
        "b = y_m - a*x_m\n",
        "# b = média de Y - a * média de X\n",
        "print('y_m - a * x_m = b')\n",
        "print(f'{y_m:.2f} - {a:.2f} * {x_m} = {b:.2f}')\n",
        "print()\n",
        "\n",
        "print('Regressão linear simples: ')\n",
        "print('Y = ax + b')\n",
        "print(f'Y = {a:.2f}x + {b:.2f}')"
      ],
      "metadata": {
        "colab": {
          "base_uri": "https://localhost:8080/"
        },
        "id": "e623CXPwXBKb",
        "outputId": "4ac0cc1f-104b-4948-87d0-21b62eb5a7ef"
      },
      "execution_count": null,
      "outputs": [
        {
          "output_type": "stream",
          "name": "stdout",
          "text": [
            "Valor de A: \n",
            "n * SM - SX * SY / (n * SXQ - SX**2)\n",
            "100.0 / 200.0 = 0.50\n",
            "\n",
            "Média de X: \n",
            "SX / n = x_m\n",
            "30.0 / 5 = 6.0\n",
            "\n",
            "Média de Y: \n",
            "SY / n = y_m\n",
            "15.0 / 5 = 3.0\n",
            "\n",
            "Valor de B: \n",
            "y_m - a * x_m = b\n",
            "3.00 - 0.50 * 6.0 = 0.00\n",
            "\n",
            "Regressão linear simples: \n",
            "Y = ax + b\n",
            "Y = 0.50x + 0.00\n"
          ]
        }
      ]
    },
    {
      "cell_type": "markdown",
      "source": [
        "#Gráfico"
      ],
      "metadata": {
        "id": "A_7erphHt2k6"
      }
    },
    {
      "cell_type": "code",
      "source": [
        "import matplotlib.pyplot as plt\n",
        "\n",
        "plt.figure(facecolor='white')\n",
        "plt.plot(X1, Y1)\n",
        "\n",
        "# Atribuindo um título ao gráfico\n",
        "plt.title('Noções de correlação e Regressão linear simples')\n",
        "plt.title(\"Y = ax + b\")\n",
        "plt.ylabel('Y')\n",
        "plt.xlabel('X')\n",
        "\n",
        "# Atribuindo uma legenda\n",
        "plt.plot(X1, Y1 , label = 'Linha do gráfico', marker=\"D\")\n",
        "plt.legend()\n",
        "ax = plt.axes() \n",
        "ax.set_facecolor(\"blue\") \n",
        "plt.grid(axis='both', color='w')\n",
        "\n",
        "plt.show()"
      ],
      "metadata": {
        "colab": {
          "base_uri": "https://localhost:8080/",
          "height": 384
        },
        "id": "IJCTO5PFfocx",
        "outputId": "ed827578-a60e-4307-95cc-1b012173693b"
      },
      "execution_count": null,
      "outputs": [
        {
          "output_type": "stream",
          "name": "stderr",
          "text": [
            "/usr/local/lib/python3.7/dist-packages/ipykernel_launcher.py:15: MatplotlibDeprecationWarning:\n",
            "\n",
            "Adding an axes using the same arguments as a previous axes currently reuses the earlier instance.  In a future version, a new instance will always be created and returned.  Meanwhile, this warning can be suppressed, and the future behavior ensured, by passing a unique label to each axes instance.\n",
            "\n"
          ]
        },
        {
          "output_type": "display_data",
          "data": {
            "text/plain": [
              "<Figure size 432x288 with 1 Axes>"
            ],
            "image/png": "[encoded data removed]"
          },
          "metadata": {}
        }
      ]
    },
    {
      "cell_type": "code",
      "source": [
        "import plotly.graph_objects as go\n",
        "\n",
        "fig = go.Figure()\n",
        "fig.add_trace(go.Scatter(x = X1, y = Y1))\n",
        "\n",
        "fig.update_layout(title='Y = ax + b',\n",
        "xaxis_title='X',\n",
        "yaxis_title='Y')\n",
        "\n",
        "fig.show()"
      ],
      "metadata": {
        "colab": {
          "base_uri": "https://localhost:8080/",
          "height": 542
        },
        "id": "5ZOupkztErOq",
        "outputId": "3aae311c-cccf-4c1b-e742-b1fcc360d884"
      },
      "execution_count": null,
      "outputs": [
        {
          "output_type": "display_data",
          "data": {
            "text/html": [
              "<html>\n",
              "<head><meta charset=\"utf-8\" /></head>\n",
              "<body>\n",
              "    <div>            <script src=\"https://cdnjs.cloudflare.com/ajax/libs/mathjax/2.7.5/MathJax.js?config=TeX-AMS-MML_SVG\"></script><script type=\"text/javascript\">if (window.MathJax) {MathJax.Hub.Config({SVG: {font: \"STIX-Web\"}});}</script>                <script type=\"text/javascript\">window.PlotlyConfig = {MathJaxConfig: 'local'};</script>\n",
              "        <script src=\"https://cdn.plot.ly/plotly-2.8.3.min.js\"></script>                <div id=\"a4771afb-b79b-4df0-8e7f-2610f380d100\" class=\"plotly-graph-div\" style=\"height:525px; width:100%;\"></div>            <script type=\"text/javascript\">                                    window.PLOTLYENV=window.PLOTLYENV || {};                                    if (document.getElementById(\"a4771afb-b79b-4df0-8e7f-2610f380d100\")) {                    Plotly.newPlot(                        \"a4771afb-b79b-4df0-8e7f-2610f380d100\",                        [{\"x\":[2.0,4.0,6.0,8.0,10.0],\"y\":[1.0,2.0,3.0,4.0,5.0],\"type\":\"scatter\"}],                        {\"template\":{\"data\":{\"bar\":[{\"error_x\":{\"color\":\"#2a3f5f\"},\"error_y\":{\"color\":\"#2a3f5f\"},\"marker\":{\"line\":{\"color\":\"#E5ECF6\",\"width\":0.5},\"pattern\":{\"fillmode\":\"overlay\",\"size\":10,\"solidity\":0.2}},\"type\":\"bar\"}],\"barpolar\":[{\"marker\":{\"line\":{\"color\":\"#E5ECF6\",\"width\":0.5},\"pattern\":{\"fillmode\":\"overlay\",\"size\":10,\"solidity\":0.2}},\"type\":\"barpolar\"}],\"carpet\":[{\"aaxis\":{\"endlinecolor\":\"#2a3f5f\",\"gridcolor\":\"white\",\"linecolor\":\"white\",\"minorgridcolor\":\"white\",\"startlinecolor\":\"#2a3f5f\"},\"baxis\":{\"endlinecolor\":\"#2a3f5f\",\"gridcolor\":\"white\",\"linecolor\":\"white\",\"minorgridcolor\":\"white\",\"startlinecolor\":\"#2a3f5f\"},\"type\":\"carpet\"}],\"choropleth\":[{\"colorbar\":{\"outlinewidth\":0,\"ticks\":\"\"},\"type\":\"choropleth\"}],\"contour\":[{\"colorbar\":{\"outlinewidth\":0,\"ticks\":\"\"},\"colorscale\":[[0.0,\"#0d0887\"],[0.1111111111111111,\"#46039f\"],[0.2222222222222222,\"#7201a8\"],[0.3333333333333333,\"#9c179e\"],[0.4444444444444444,\"#bd3786\"],[0.5555555555555556,\"#d8576b\"],[0.6666666666666666,\"#ed7953\"],[0.7777777777777778,\"#fb9f3a\"],[0.8888888888888888,\"#fdca26\"],[1.0,\"#f0f921\"]],\"type\":\"contour\"}],\"contourcarpet\":[{\"colorbar\":{\"outlinewidth\":0,\"ticks\":\"\"},\"type\":\"contourcarpet\"}],\"heatmap\":[{\"colorbar\":{\"outlinewidth\":0,\"ticks\":\"\"},\"colorscale\":[[0.0,\"#0d0887\"],[0.1111111111111111,\"#46039f\"],[0.2222222222222222,\"#7201a8\"],[0.3333333333333333,\"#9c179e\"],[0.4444444444444444,\"#bd3786\"],[0.5555555555555556,\"#d8576b\"],[0.6666666666666666,\"#ed7953\"],[0.7777777777777778,\"#fb9f3a\"],[0.8888888888888888,\"#fdca26\"],[1.0,\"#f0f921\"]],\"type\":\"heatmap\"}],\"heatmapgl\":[{\"colorbar\":{\"outlinewidth\":0,\"ticks\":\"\"},\"colorscale\":[[0.0,\"#0d0887\"],[0.1111111111111111,\"#46039f\"],[0.2222222222222222,\"#7201a8\"],[0.3333333333333333,\"#9c179e\"],[0.4444444444444444,\"#bd3786\"],[0.5555555555555556,\"#d8576b\"],[0.6666666666666666,\"#ed7953\"],[0.7777777777777778,\"#fb9f3a\"],[0.8888888888888888,\"#fdca26\"],[1.0,\"#f0f921\"]],\"type\":\"heatmapgl\"}],\"histogram\":[{\"marker\":{\"pattern\":{\"fillmode\":\"overlay\",\"size\":10,\"solidity\":0.2}},\"type\":\"histogram\"}],\"histogram2d\":[{\"colorbar\":{\"outlinewidth\":0,\"ticks\":\"\"},\"colorscale\":[[0.0,\"#0d0887\"],[0.1111111111111111,\"#46039f\"],[0.2222222222222222,\"#7201a8\"],[0.3333333333333333,\"#9c179e\"],[0.4444444444444444,\"#bd3786\"],[0.5555555555555556,\"#d8576b\"],[0.6666666666666666,\"#ed7953\"],[0.7777777777777778,\"#fb9f3a\"],[0.8888888888888888,\"#fdca26\"],[1.0,\"#f0f921\"]],\"type\":\"histogram2d\"}],\"histogram2dcontour\":[{\"colorbar\":{\"outlinewidth\":0,\"ticks\":\"\"},\"colorscale\":[[0.0,\"#0d0887\"],[0.1111111111111111,\"#46039f\"],[0.2222222222222222,\"#7201a8\"],[0.3333333333333333,\"#9c179e\"],[0.4444444444444444,\"#bd3786\"],[0.5555555555555556,\"#d8576b\"],[0.6666666666666666,\"#ed7953\"],[0.7777777777777778,\"#fb9f3a\"],[0.8888888888888888,\"#fdca26\"],[1.0,\"#f0f921\"]],\"type\":\"histogram2dcontour\"}],\"mesh3d\":[{\"colorbar\":{\"outlinewidth\":0,\"ticks\":\"\"},\"type\":\"mesh3d\"}],\"parcoords\":[{\"line\":{\"colorbar\":{\"outlinewidth\":0,\"ticks\":\"\"}},\"type\":\"parcoords\"}],\"pie\":[{\"automargin\":true,\"type\":\"pie\"}],\"scatter\":[{\"marker\":{\"colorbar\":{\"outlinewidth\":0,\"ticks\":\"\"}},\"type\":\"scatter\"}],\"scatter3d\":[{\"line\":{\"colorbar\":{\"outlinewidth\":0,\"ticks\":\"\"}},\"marker\":{\"colorbar\":{\"outlinewidth\":0,\"ticks\":\"\"}},\"type\":\"scatter3d\"}],\"scattercarpet\":[{\"marker\":{\"colorbar\":{\"outlinewidth\":0,\"ticks\":\"\"}},\"type\":\"scattercarpet\"}],\"scattergeo\":[{\"marker\":{\"colorbar\":{\"outlinewidth\":0,\"ticks\":\"\"}},\"type\":\"scattergeo\"}],\"scattergl\":[{\"marker\":{\"colorbar\":{\"outlinewidth\":0,\"ticks\":\"\"}},\"type\":\"scattergl\"}],\"scattermapbox\":[{\"marker\":{\"colorbar\":{\"outlinewidth\":0,\"ticks\":\"\"}},\"type\":\"scattermapbox\"}],\"scatterpolar\":[{\"marker\":{\"colorbar\":{\"outlinewidth\":0,\"ticks\":\"\"}},\"type\":\"scatterpolar\"}],\"scatterpolargl\":[{\"marker\":{\"colorbar\":{\"outlinewidth\":0,\"ticks\":\"\"}},\"type\":\"scatterpolargl\"}],\"scatterternary\":[{\"marker\":{\"colorbar\":{\"outlinewidth\":0,\"ticks\":\"\"}},\"type\":\"scatterternary\"}],\"surface\":[{\"colorbar\":{\"outlinewidth\":0,\"ticks\":\"\"},\"colorscale\":[[0.0,\"#0d0887\"],[0.1111111111111111,\"#46039f\"],[0.2222222222222222,\"#7201a8\"],[0.3333333333333333,\"#9c179e\"],[0.4444444444444444,\"#bd3786\"],[0.5555555555555556,\"#d8576b\"],[0.6666666666666666,\"#ed7953\"],[0.7777777777777778,\"#fb9f3a\"],[0.8888888888888888,\"#fdca26\"],[1.0,\"#f0f921\"]],\"type\":\"surface\"}],\"table\":[{\"cells\":{\"fill\":{\"color\":\"#EBF0F8\"},\"line\":{\"color\":\"white\"}},\"header\":{\"fill\":{\"color\":\"#C8D4E3\"},\"line\":{\"color\":\"white\"}},\"type\":\"table\"}]},\"layout\":{\"annotationdefaults\":{\"arrowcolor\":\"#2a3f5f\",\"arrowhead\":0,\"arrowwidth\":1},\"autotypenumbers\":\"strict\",\"coloraxis\":{\"colorbar\":{\"outlinewidth\":0,\"ticks\":\"\"}},\"colorscale\":{\"diverging\":[[0,\"#8e0152\"],[0.1,\"#c51b7d\"],[0.2,\"#de77ae\"],[0.3,\"#f1b6da\"],[0.4,\"#fde0ef\"],[0.5,\"#f7f7f7\"],[0.6,\"#e6f5d0\"],[0.7,\"#b8e186\"],[0.8,\"#7fbc41\"],[0.9,\"#4d9221\"],[1,\"#276419\"]],\"sequential\":[[0.0,\"#0d0887\"],[0.1111111111111111,\"#46039f\"],[0.2222222222222222,\"#7201a8\"],[0.3333333333333333,\"#9c179e\"],[0.4444444444444444,\"#bd3786\"],[0.5555555555555556,\"#d8576b\"],[0.6666666666666666,\"#ed7953\"],[0.7777777777777778,\"#fb9f3a\"],[0.8888888888888888,\"#fdca26\"],[1.0,\"#f0f921\"]],\"sequentialminus\":[[0.0,\"#0d0887\"],[0.1111111111111111,\"#46039f\"],[0.2222222222222222,\"#7201a8\"],[0.3333333333333333,\"#9c179e\"],[0.4444444444444444,\"#bd3786\"],[0.5555555555555556,\"#d8576b\"],[0.6666666666666666,\"#ed7953\"],[0.7777777777777778,\"#fb9f3a\"],[0.8888888888888888,\"#fdca26\"],[1.0,\"#f0f921\"]]},\"colorway\":[\"#636efa\",\"#EF553B\",\"#00cc96\",\"#ab63fa\",\"#FFA15A\",\"#19d3f3\",\"#FF6692\",\"#B6E880\",\"#FF97FF\",\"#FECB52\"],\"font\":{\"color\":\"#2a3f5f\"},\"geo\":{\"bgcolor\":\"white\",\"lakecolor\":\"white\",\"landcolor\":\"#E5ECF6\",\"showlakes\":true,\"showland\":true,\"subunitcolor\":\"white\"},\"hoverlabel\":{\"align\":\"left\"},\"hovermode\":\"closest\",\"mapbox\":{\"style\":\"light\"},\"paper_bgcolor\":\"white\",\"plot_bgcolor\":\"#E5ECF6\",\"polar\":{\"angularaxis\":{\"gridcolor\":\"white\",\"linecolor\":\"white\",\"ticks\":\"\"},\"bgcolor\":\"#E5ECF6\",\"radialaxis\":{\"gridcolor\":\"white\",\"linecolor\":\"white\",\"ticks\":\"\"}},\"scene\":{\"xaxis\":{\"backgroundcolor\":\"#E5ECF6\",\"gridcolor\":\"white\",\"gridwidth\":2,\"linecolor\":\"white\",\"showbackground\":true,\"ticks\":\"\",\"zerolinecolor\":\"white\"},\"yaxis\":{\"backgroundcolor\":\"#E5ECF6\",\"gridcolor\":\"white\",\"gridwidth\":2,\"linecolor\":\"white\",\"showbackground\":true,\"ticks\":\"\",\"zerolinecolor\":\"white\"},\"zaxis\":{\"backgroundcolor\":\"#E5ECF6\",\"gridcolor\":\"white\",\"gridwidth\":2,\"linecolor\":\"white\",\"showbackground\":true,\"ticks\":\"\",\"zerolinecolor\":\"white\"}},\"shapedefaults\":{\"line\":{\"color\":\"#2a3f5f\"}},\"ternary\":{\"aaxis\":{\"gridcolor\":\"white\",\"linecolor\":\"white\",\"ticks\":\"\"},\"baxis\":{\"gridcolor\":\"white\",\"linecolor\":\"white\",\"ticks\":\"\"},\"bgcolor\":\"#E5ECF6\",\"caxis\":{\"gridcolor\":\"white\",\"linecolor\":\"white\",\"ticks\":\"\"}},\"title\":{\"x\":0.05},\"xaxis\":{\"automargin\":true,\"gridcolor\":\"white\",\"linecolor\":\"white\",\"ticks\":\"\",\"title\":{\"standoff\":15},\"zerolinecolor\":\"white\",\"zerolinewidth\":2},\"yaxis\":{\"automargin\":true,\"gridcolor\":\"white\",\"linecolor\":\"white\",\"ticks\":\"\",\"title\":{\"standoff\":15},\"zerolinecolor\":\"white\",\"zerolinewidth\":2}}},\"title\":{\"text\":\"Y = ax + b\"},\"xaxis\":{\"title\":{\"text\":\"X\"}},\"yaxis\":{\"title\":{\"text\":\"Y\"}}},                        {\"responsive\": true}                    ).then(function(){\n",
              "                            \n",
              "var gd = document.getElementById('a4771afb-b79b-4df0-8e7f-2610f380d100');\n",
              "var x = new MutationObserver(function (mutations, observer) {{\n",
              "        var display = window.getComputedStyle(gd).display;\n",
              "        if (!display || display === 'none') {{\n",
              "            console.log([gd, 'removed!']);\n",
              "            Plotly.purge(gd);\n",
              "            observer.disconnect();\n",
              "        }}\n",
              "}});\n",
              "\n",
              "// Listen for the removal of the full notebook cells\n",
              "var notebookContainer = gd.closest('#notebook-container');\n",
              "if (notebookContainer) {{\n",
              "    x.observe(notebookContainer, {childList: true});\n",
              "}}\n",
              "\n",
              "// Listen for the clearing of the current output cell\n",
              "var outputEl = gd.closest('.output');\n",
              "if (outputEl) {{\n",
              "    x.observe(outputEl, {childList: true});\n",
              "}}\n",
              "\n",
              "                        })                };                            </script>        </div>\n",
              "</body>\n",
              "</html>"
            ]
          },
          "metadata": {}
        }
      ]
    }
  ]
}