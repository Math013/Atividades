{
  "nbformat": 4,
  "nbformat_minor": 0,
  "metadata": {
    "colab": {
      "name": "Pilhas.py",
      "provenance": [],
      "toc_visible": true,
      "authorship_tag": "ABX9TyOr08McK4TSqv298RRF+zhP",
      "include_colab_link": true
    },
    "kernelspec": {
      "name": "python3",
      "display_name": "Python 3"
    },
    "language_info": {
      "name": "python"
    }
  },
  "cells": [
    {
      "cell_type": "markdown",
      "metadata": {
        "id": "view-in-github",
        "colab_type": "text"
      },
      "source": [
        "<a href=\"https://colab.research.google.com/github/Math013/Atividades/blob/main/Pilhas_py.ipynb\" target=\"_parent\"><img src=\"https://colab.research.google.com/assets/colab-badge.svg\" alt=\"Open In Colab\"/></a>"
      ]
    },
    {
      "cell_type": "markdown",
      "source": [
        "Funções PILHA"
      ],
      "metadata": {
        "id": "uVHfgDNwrnpa"
      }
    },
    {
      "cell_type": "code",
      "execution_count": null,
      "metadata": {
        "id": "1X6alSC5a0I9"
      },
      "outputs": [],
      "source": [
        "pilha1 = []\n",
        " \n",
        "def TOP(pl): # RETORNA ELEMENTO DO TOPO\n",
        "  x = pl[-1]\n",
        "  return x\n",
        "\n",
        "def PUSH(pl, el): # INSERIR ELEMENTO NA PILHA\n",
        "  x = pl.append(el)\n",
        "  return x\n",
        "\n",
        "def POP(pl): # REMOVE ELEMENTO DO TOPO DA PILHA\n",
        "  x = pl.pop()\n",
        "  return x\n",
        "\n",
        "def InicPilha(): # INICIA UMA PILHA VAZIA\n",
        "  pi = []\n",
        "  return pi\n",
        "\n",
        "def Pilhavazia(x): # VERIFICA SE A PILHA ESTÁ VAZIA\n",
        "  if len(x) == 0:\n",
        "    return True\n",
        "  else:\n",
        "    return False\n",
        "\n",
        "def PilhaCheia(x): # VERIFICA SE A PILHA ESTÁ CHEIA\n",
        "  if len(x) > 0:\n",
        "    return True\n",
        "  else:\n",
        "    return False\n",
        "\n",
        "PILHAS = InicPilha()\n"
      ]
    },
    {
      "cell_type": "markdown",
      "source": [
        "INSERIR NA PILHA"
      ],
      "metadata": {
        "id": "Lr0qn7XeuAZx"
      }
    },
    {
      "cell_type": "code",
      "source": [
        "PILHAS.clear() # LIMPA A PILHA\n",
        "pilha1.clear() # LIMPA A PILHA\n",
        "\n",
        "print(\"Inserindo nas pilhas\")\n",
        "PUSH(PILHAS, '1')\n",
        "PUSH(PILHAS, '2')\n",
        "PUSH(pilha1, '3')\n",
        "PUSH(pilha1, '4')\n",
        "print(PILHAS, 'PILHAS')\n",
        "print(pilha1, 'pilhas1')\n"
      ],
      "metadata": {
        "colab": {
          "base_uri": "https://localhost:8080/"
        },
        "id": "4E91hOWvuE5x",
        "outputId": "46c1d3de-d621-4d51-dc41-d669954bb1d8"
      },
      "execution_count": null,
      "outputs": [
        {
          "output_type": "stream",
          "name": "stdout",
          "text": [
            "Inserindo nas pilhas\n",
            "['1', '2'] PILHAS\n",
            "['3', '4'] pilhas1\n"
          ]
        }
      ]
    },
    {
      "cell_type": "markdown",
      "source": [
        "REMOVE ELEMENTO DO TOPO DA PILHA"
      ],
      "metadata": {
        "id": "T1maABD0vLLA"
      }
    },
    {
      "cell_type": "code",
      "source": [
        "print(pilha1) # ANTES DE REMOVER\n",
        "POP(pilha1) # REMOVENDO ELEMENTO\n",
        "print(pilha1) # DEPOIS DE REMOVER"
      ],
      "metadata": {
        "colab": {
          "base_uri": "https://localhost:8080/"
        },
        "id": "tiZeYVnSu1mA",
        "outputId": "0a12d20f-50aa-439e-b4aa-662cddd569c8"
      },
      "execution_count": null,
      "outputs": [
        {
          "output_type": "stream",
          "name": "stdout",
          "text": [
            "['3', '4']\n",
            "['3']\n"
          ]
        }
      ]
    },
    {
      "cell_type": "markdown",
      "source": [
        "RETORNA ELEMENTO DO TOPO"
      ],
      "metadata": {
        "id": "ZHF8l0Znvnm_"
      }
    },
    {
      "cell_type": "code",
      "source": [
        "print(PILHAS) # MOSTRA COMO É A PILHA\n",
        "TOP(PILHAS) # RETORNA APENAS O ELEMENTO DO TOPO"
      ],
      "metadata": {
        "colab": {
          "base_uri": "https://localhost:8080/",
          "height": 53
        },
        "id": "fKQGzJ_JvqWH",
        "outputId": "2b22c44a-d528-4f10-8a0a-f128fd507e23"
      },
      "execution_count": null,
      "outputs": [
        {
          "output_type": "stream",
          "name": "stdout",
          "text": [
            "['1', '2']\n"
          ]
        },
        {
          "output_type": "execute_result",
          "data": {
            "text/plain": [
              "'2'"
            ],
            "application/vnd.google.colaboratory.intrinsic+json": {
              "type": "string"
            }
          },
          "metadata": {},
          "execution_count": 4
        }
      ]
    },
    {
      "cell_type": "markdown",
      "source": [
        "VERIFICA SE A PILHA ESTÁ CHEIA"
      ],
      "metadata": {
        "id": "NY0_ClI9v8Pn"
      }
    },
    {
      "cell_type": "code",
      "source": [
        "print(PILHAS) # MOSTRA COMO É A PILHA\n",
        "PilhaCheia(PILHAS) # VERIFICA SE A PILHA ESTÁ CHEIA\n",
        "\n"
      ],
      "metadata": {
        "colab": {
          "base_uri": "https://localhost:8080/"
        },
        "id": "3Wepqpncv-1v",
        "outputId": "6d4c7d93-69a2-47b0-d89d-46c79a87ffe9"
      },
      "execution_count": null,
      "outputs": [
        {
          "output_type": "stream",
          "name": "stdout",
          "text": [
            "['1', '2']\n"
          ]
        },
        {
          "output_type": "execute_result",
          "data": {
            "text/plain": [
              "True"
            ]
          },
          "metadata": {},
          "execution_count": 5
        }
      ]
    },
    {
      "cell_type": "markdown",
      "source": [
        "INICIA UMA PILHA VAZIA"
      ],
      "metadata": {
        "id": "9SsY0-EHw-SH"
      }
    },
    {
      "cell_type": "code",
      "source": [
        "teste_pilha = InicPilha() # CRIANDO UMA PILHA VAZIA\n",
        "print(teste_pilha)"
      ],
      "metadata": {
        "colab": {
          "base_uri": "https://localhost:8080/"
        },
        "id": "2G6ZBDemwvtg",
        "outputId": "b433b290-5b7c-4882-c387-db9ba7c7b364"
      },
      "execution_count": null,
      "outputs": [
        {
          "output_type": "stream",
          "name": "stdout",
          "text": [
            "[]\n"
          ]
        }
      ]
    },
    {
      "cell_type": "markdown",
      "source": [
        "VERIFICA SE A PILHA ESTÁ VAZIA"
      ],
      "metadata": {
        "id": "DvIR_yeXxS5v"
      }
    },
    {
      "cell_type": "code",
      "source": [
        "Pilhavazia(teste_pilha) # VERIFICA SE A PILHA ESTÁ VAZIA\n",
        "#print(teste_pilha)"
      ],
      "metadata": {
        "colab": {
          "base_uri": "https://localhost:8080/"
        },
        "id": "-LdmTCIOxUZX",
        "outputId": "9840a73a-d669-477c-ccbf-920bc1de3508"
      },
      "execution_count": null,
      "outputs": [
        {
          "output_type": "execute_result",
          "data": {
            "text/plain": [
              "True"
            ]
          },
          "metadata": {},
          "execution_count": 7
        }
      ]
    },
    {
      "cell_type": "markdown",
      "source": [
        "COMENTÁRIOS"
      ],
      "metadata": {
        "id": "AC-UML9exxrv"
      }
    },
    {
      "cell_type": "code",
      "source": [
        "\n",
        "#top(PILHAS)\n",
        "#top(pilha1)\n",
        "\n",
        "#print(\"\\nRemovendo da pilha 'pilha1' \")\n",
        "#POP_pilha(pilha1)\n",
        "#print(PILHAS)\n",
        "#print(pilha1)\n",
        "\n",
        "#pilhavazia(PILHAS)\n",
        "#insere_push()\n",
        "\n",
        "#insere_push('Teste')\n",
        "\n",
        "#pilhavazia(pilha)\n",
        "#pilhacheia(pilha)\n",
        "\n",
        "#insere_push('TESTE2')\n",
        "#insere_push('TESTE3')\n",
        "#insere_push('Teste4')\n",
        "#print(pilha)  \n",
        "\n",
        "\n",
        "#top() # RETORNA O ELEMENTO DO TOPO\n",
        "\n",
        "#POP_pilha() # REMOVE ELEMENTO DO TOPO DA PILHA\n",
        "#print(pilha)\n",
        "\n",
        "#print(pilha) # INSERIR PILHA\n",
        "\n",
        "#print(pilha) # REMOVER TOPO"
      ],
      "metadata": {
        "id": "jQOxmzmtxzsP"
      },
      "execution_count": null,
      "outputs": []
    }
  ]
}