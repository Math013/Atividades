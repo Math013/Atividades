{
  "nbformat": 4,
  "nbformat_minor": 0,
  "metadata": {
    "colab": {
      "name": "Senha.ipynb",
      "provenance": [],
      "collapsed_sections": [],
      "authorship_tag": "ABX9TyM+h5W3Rf0DFu2ucDnlUDZ5",
      "include_colab_link": true
    },
    "kernelspec": {
      "name": "python3",
      "display_name": "Python 3"
    },
    "language_info": {
      "name": "python"
    }
  },
  "cells": [
    {
      "cell_type": "markdown",
      "metadata": {
        "id": "view-in-github",
        "colab_type": "text"
      },
      "source": [
        "<a href=\"https://colab.research.google.com/github/Math013/Atividades/blob/main/Senha.ipynb\" target=\"_parent\"><img src=\"https://colab.research.google.com/assets/colab-badge.svg\" alt=\"Open In Colab\"/></a>"
      ]
    },
    {
      "cell_type": "markdown",
      "source": [
        "Gerador de senha"
      ],
      "metadata": {
        "id": "Ff_1oAA2NZxc"
      }
    },
    {
      "cell_type": "code",
      "execution_count": 5,
      "metadata": {
        "colab": {
          "base_uri": "https://localhost:8080/"
        },
        "id": "Z0fypCuyIYOt",
        "outputId": "7c1d0714-e181-43b3-c4a6-ead8313b98af"
      },
      "outputs": [
        {
          "output_type": "stream",
          "name": "stdout",
          "text": [
            "Informe o tamanho da senha: 12\n",
            "Sua senha é YZ%45g#HutLx\n"
          ]
        }
      ],
      "source": [
        "from random import choice \n",
        "import string\n",
        "#from itertools import combinations_with_replacement\n",
        "\n",
        "string.ascii_lowercase # abcdefghijklmnopqrstuvwxyz\n",
        "string.ascii_uppercase # ABCDEFGHIJKLMNOPQRSTUVWXYZ\n",
        "string.ascii_letters # abcdefghijklmnopqrstuvwxyzABCDEFGHIJKLMNOPQRSTUVWXYZ\n",
        "string.digits # 0123456789\n",
        "#string.punctuation # <=>?@[\\]^_`{|}~.\n",
        "\n",
        "pont = '@#$%&/*+'\n",
        "\n",
        "#def gerar_senhas(valores, tamanho):\n",
        "  #comb = combinations_with_replacement(valores, tamanho)\n",
        "  #print(list(comb))\n",
        "\n",
        "\n",
        "tam = int(input(\"Informe o tamanho da senha: \"))\n",
        "\n",
        "tamanho = tam\n",
        "valores = string.ascii_letters + string.digits + pont\n",
        "senha = ''\n",
        "for i in range(tamanho):\n",
        "  senha += choice(valores)\n",
        "\n",
        "print(f'Sua senha é {senha}')\n",
        "\n",
        "\n",
        "#import time\n",
        "\n",
        "#ini_t = time.time()\n",
        "#gerar_senhas(valores, tamanho)\n",
        "#fin_t = time.time()\n",
        "\n",
        "#print(\"Tempo: \" + str(fin_t - ini_t) + \"s\")0\n"
      ]
    }
  ]
}